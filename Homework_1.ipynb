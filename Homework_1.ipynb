{
  "cells": [
    {
      "cell_type": "markdown",
      "metadata": {
        "id": "3g-qEi2D1oUP"
      },
      "source": [
        "# Homework | module 3 > week 10 > day 24 <hr style=\"border:4.5px solid #108999\"> </hr>"
      ]
    },
    {
      "cell_type": "markdown",
      "metadata": {
        "id": "ZQOAbk_x1oUU"
      },
      "source": [
        "## Strings"
      ]
    },
    {
      "cell_type": "markdown",
      "metadata": {
        "id": "aOlnyVNJ1oUU"
      },
      "source": [
        "1. Assign the value of 80 to the variable `d`."
      ]
    },
    {
      "cell_type": "code",
      "execution_count": null,
      "metadata": {
        "id": "8SCKqgnw1oUU"
      },
      "outputs": [],
      "source": [
        "d = 80"
      ]
    },
    {
      "cell_type": "markdown",
      "metadata": {
        "id": "x0VTUh0W1oUU"
      },
      "source": [
        "2. Using the variable `d`, write one line of code where the output after execution is \"Around the World in 80 Days\" (hint: there are several ways to achieve this result)."
      ]
    },
    {
      "cell_type": "code",
      "source": [
        "'Around the World in ' + str(80) + ' Days'  # ho messo dello spazio in days per evitare che si attaccasse alla str(80)"
      ],
      "metadata": {
        "id": "73zm94NUL_CB",
        "colab": {
          "base_uri": "https://localhost:8080/",
          "height": 36
        },
        "outputId": "10bd808b-25f1-4680-92d1-d77300a51135"
      },
      "execution_count": null,
      "outputs": [
        {
          "output_type": "execute_result",
          "data": {
            "text/plain": [
              "'Around the World in 80 Days'"
            ],
            "application/vnd.google.colaboratory.intrinsic+json": {
              "type": "string"
            }
          },
          "metadata": {},
          "execution_count": 3
        }
      ]
    },
    {
      "cell_type": "code",
      "execution_count": null,
      "metadata": {
        "id": "utp07HSP1oUU",
        "colab": {
          "base_uri": "https://localhost:8080/"
        },
        "outputId": "2e32d77f-f808-48c7-8bda-41f89ea901f2"
      },
      "outputs": [
        {
          "output_type": "stream",
          "name": "stdout",
          "text": [
            "Around the world in 80 Days\n"
          ]
        }
      ],
      "source": [
        "print('Around the world in', d , 'Days')"
      ]
    },
    {
      "cell_type": "markdown",
      "metadata": {
        "id": "bjWIr0CR1oUU"
      },
      "source": [
        "3. Write a string that says \"It's hot, don't you think?\""
      ]
    },
    {
      "cell_type": "code",
      "execution_count": null,
      "metadata": {
        "id": "RqpJQbL51oUV",
        "colab": {
          "base_uri": "https://localhost:8080/"
        },
        "outputId": "732eb566-ffae-46e2-c3fa-c82e0ceb7471"
      },
      "outputs": [
        {
          "output_type": "stream",
          "name": "stdout",
          "text": [
            "it's hot, dont't you think?\n"
          ]
        }
      ],
      "source": [
        "print(\"it's hot, dont't you think?\")"
      ]
    },
    {
      "cell_type": "markdown",
      "metadata": {
        "id": "QO1bF6jm1oUV"
      },
      "source": [
        "4. Fix the cell below so that it becomes a string."
      ]
    },
    {
      "cell_type": "code",
      "execution_count": null,
      "metadata": {
        "id": "1Rx09HVG1oUV",
        "colab": {
          "base_uri": "https://localhost:8080/",
          "height": 36
        },
        "outputId": "f05663e3-065e-44d4-8d6a-45a843684c69"
      },
      "outputs": [
        {
          "output_type": "execute_result",
          "data": {
            "text/plain": [
              "\"Don't be shy\""
            ],
            "application/vnd.google.colaboratory.intrinsic+json": {
              "type": "string"
            }
          },
          "metadata": {},
          "execution_count": 7
        }
      ],
      "source": [
        "'Don\\'t be shy' # per evitare che il singolo apice si confonda con l'apostrofo si usa un back_sls "
      ]
    },
    {
      "cell_type": "markdown",
      "metadata": {
        "id": "sBQmnXbL1oUV"
      },
      "source": [
        "5. Produce an output equal to *Click \"OK\"*."
      ]
    },
    {
      "cell_type": "code",
      "execution_count": null,
      "metadata": {
        "id": "le16ebaB1oUV",
        "colab": {
          "base_uri": "https://localhost:8080/"
        },
        "outputId": "4039332c-fb1a-414f-bd07-453fb533ab03"
      },
      "outputs": [
        {
          "output_type": "stream",
          "name": "stdout",
          "text": [
            "OK\n"
          ]
        }
      ],
      "source": [
        "print(\"OK\")"
      ]
    },
    {
      "cell_type": "markdown",
      "metadata": {
        "id": "TIR6vEng1oUV"
      },
      "source": [
        "<hr style=\"border:5px solid #108999\"> </hr>"
      ]
    },
    {
      "cell_type": "markdown",
      "metadata": {
        "id": "F40yMdDd1oUT"
      },
      "source": [
        "## Numbers and Boolean Operators"
      ]
    },
    {
      "cell_type": "markdown",
      "metadata": {
        "id": "5_ycMHjO1oUT"
      },
      "source": [
        "1. Create a variable equal to \"True\" and call it `b`. Then check its type."
      ]
    },
    {
      "cell_type": "code",
      "execution_count": null,
      "metadata": {
        "collapsed": true,
        "jupyter": {
          "outputs_hidden": true
        },
        "id": "dxyU0p291oUT"
      },
      "outputs": [],
      "source": [
        "b = True "
      ]
    },
    {
      "cell_type": "code",
      "execution_count": null,
      "metadata": {
        "collapsed": true,
        "jupyter": {
          "outputs_hidden": true
        },
        "id": "mOJfofZe1oUT",
        "colab": {
          "base_uri": "https://localhost:8080/"
        },
        "outputId": "1a546b86-4d27-47e8-d653-220cf699705c"
      },
      "outputs": [
        {
          "output_type": "stream",
          "name": "stdout",
          "text": [
            "True\n"
          ]
        }
      ],
      "source": [
        "print(b)"
      ]
    },
    {
      "cell_type": "markdown",
      "metadata": {
        "id": "4KM-Rpe61oUT"
      },
      "source": [
        "2. Create a variable equal to 42 and call it `x`. Then check its type"
      ]
    },
    {
      "cell_type": "code",
      "execution_count": null,
      "metadata": {
        "collapsed": true,
        "jupyter": {
          "outputs_hidden": true
        },
        "id": "TdZfbt_H1oUT"
      },
      "outputs": [],
      "source": [
        "x = 42"
      ]
    },
    {
      "cell_type": "code",
      "execution_count": null,
      "metadata": {
        "collapsed": true,
        "jupyter": {
          "outputs_hidden": true
        },
        "id": "0JkvV2Z71oUT",
        "colab": {
          "base_uri": "https://localhost:8080/"
        },
        "outputId": "a042749e-3624-4fa3-d11d-795202d067b2"
      },
      "outputs": [
        {
          "output_type": "stream",
          "name": "stdout",
          "text": [
            "42\n"
          ]
        }
      ],
      "source": [
        "print(x)"
      ]
    },
    {
      "cell_type": "markdown",
      "metadata": {
        "id": "4HZ66caa1oUU"
      },
      "source": [
        "3. Check the type of the value 3.14. Then turn it into an integer and write the result as a comment."
      ]
    },
    {
      "cell_type": "code",
      "execution_count": null,
      "metadata": {
        "collapsed": true,
        "jupyter": {
          "outputs_hidden": true
        },
        "id": "Ly0p5ILz1oUU",
        "colab": {
          "base_uri": "https://localhost:8080/"
        },
        "outputId": "a6ac096c-739e-42c9-eaf2-87f584c45441"
      },
      "outputs": [
        {
          "output_type": "execute_result",
          "data": {
            "text/plain": [
              "float"
            ]
          },
          "metadata": {},
          "execution_count": 13
        }
      ],
      "source": [
        "type(3.14)"
      ]
    },
    {
      "cell_type": "code",
      "execution_count": null,
      "metadata": {
        "collapsed": true,
        "jupyter": {
          "outputs_hidden": true
        },
        "id": "xz5v9cwu1oUU",
        "colab": {
          "base_uri": "https://localhost:8080/"
        },
        "outputId": "c1161621-c2f4-4c35-f9f6-1f9cd35d3d6b"
      },
      "outputs": [
        {
          "output_type": "execute_result",
          "data": {
            "text/plain": [
              "3"
            ]
          },
          "metadata": {},
          "execution_count": 15
        }
      ],
      "source": [
        "int(3.14) \n",
        "# 3 is the result"
      ]
    },
    {
      "cell_type": "markdown",
      "metadata": {
        "id": "b8dKB6Rm1oUZ"
      },
      "source": [
        "4. Verify that 25 is smaller than 30. Then verify that 10 multiplied by 3 is less than or equal to 10 to the power of 3. "
      ]
    },
    {
      "cell_type": "code",
      "execution_count": null,
      "metadata": {
        "collapsed": true,
        "jupyter": {
          "outputs_hidden": true
        },
        "id": "13jG0RX11oUZ",
        "colab": {
          "base_uri": "https://localhost:8080/"
        },
        "outputId": "8beee0e9-de36-46b4-a406-b2e597d237d4"
      },
      "outputs": [
        {
          "output_type": "execute_result",
          "data": {
            "text/plain": [
              "True"
            ]
          },
          "metadata": {},
          "execution_count": 16
        }
      ],
      "source": [
        "25 < 30"
      ]
    },
    {
      "cell_type": "code",
      "execution_count": null,
      "metadata": {
        "collapsed": true,
        "jupyter": {
          "outputs_hidden": true
        },
        "id": "Oo9IL0vq1oUZ",
        "colab": {
          "base_uri": "https://localhost:8080/"
        },
        "outputId": "4939e559-1545-40fc-9d79-f3930cbce0f2"
      },
      "outputs": [
        {
          "output_type": "execute_result",
          "data": {
            "text/plain": [
              "True"
            ]
          },
          "metadata": {},
          "execution_count": 18
        }
      ],
      "source": [
        "(10*3) <= 10**3 # moltiplicazione di 10 per 3 tra parentesi , minore o uguale a 10 potenza di 3"
      ]
    },
    {
      "cell_type": "markdown",
      "metadata": {
        "id": "KuvbaN0p1oUZ"
      },
      "source": [
        "5. Verify that 100 is equal to 10 square. Then verify that 42 is not equal to 314."
      ]
    },
    {
      "cell_type": "code",
      "execution_count": null,
      "metadata": {
        "collapsed": true,
        "jupyter": {
          "outputs_hidden": true
        },
        "id": "BmJL0Ur91oUZ",
        "colab": {
          "base_uri": "https://localhost:8080/"
        },
        "outputId": "1e22d304-2e91-48e2-b777-a9262c20d7c5"
      },
      "outputs": [
        {
          "output_type": "execute_result",
          "data": {
            "text/plain": [
              "True"
            ]
          },
          "metadata": {},
          "execution_count": 24
        }
      ],
      "source": [
        " 100 == 10*10"
      ]
    },
    {
      "cell_type": "code",
      "execution_count": null,
      "metadata": {
        "collapsed": true,
        "jupyter": {
          "outputs_hidden": true
        },
        "id": "XTBZHkGr1oUZ",
        "colab": {
          "base_uri": "https://localhost:8080/"
        },
        "outputId": "20d60f79-2798-4178-d793-038df936acb6"
      },
      "outputs": [
        {
          "output_type": "execute_result",
          "data": {
            "text/plain": [
              "True"
            ]
          },
          "metadata": {},
          "execution_count": 25
        }
      ],
      "source": [
        "42 != 314"
      ]
    },
    {
      "cell_type": "markdown",
      "source": [
        "6. Using the operators `True`, `False`, `not` and `is` exactly once, generate a `True` output."
      ],
      "metadata": {
        "id": "iaw8vUqAY6Ap"
      }
    },
    {
      "cell_type": "code",
      "source": [
        "True and (not False) is True"
      ],
      "metadata": {
        "id": "p0WB_ygRZMD6",
        "colab": {
          "base_uri": "https://localhost:8080/"
        },
        "outputId": "8f867b69-c355-4286-b11e-a6631a5df49c"
      },
      "execution_count": null,
      "outputs": [
        {
          "output_type": "execute_result",
          "data": {
            "text/plain": [
              "True"
            ]
          },
          "metadata": {},
          "execution_count": 29
        }
      ]
    },
    {
      "cell_type": "markdown",
      "metadata": {
        "id": "bcpGl3rc1oUV"
      },
      "source": [
        "## Arithmetic operators"
      ]
    },
    {
      "cell_type": "markdown",
      "metadata": {
        "id": "YvNK3HaG1oUV"
      },
      "source": [
        "1. Add 34 and 26, from the result subtract 50. Then assign this operation to a variable and call it `y`."
      ]
    },
    {
      "cell_type": "code",
      "execution_count": null,
      "metadata": {
        "collapsed": true,
        "jupyter": {
          "outputs_hidden": true
        },
        "id": "qMftFWiu1oUW",
        "colab": {
          "base_uri": "https://localhost:8080/"
        },
        "outputId": "f9928183-ab71-4300-c70d-42a753d10055"
      },
      "outputs": [
        {
          "output_type": "execute_result",
          "data": {
            "text/plain": [
              "10"
            ]
          },
          "metadata": {},
          "execution_count": 30
        }
      ],
      "source": [
        "(34+26) - 50"
      ]
    },
    {
      "cell_type": "code",
      "source": [
        "y = (34+26) - 50"
      ],
      "metadata": {
        "id": "QwKyD9iNRZD2"
      },
      "execution_count": null,
      "outputs": []
    },
    {
      "cell_type": "markdown",
      "metadata": {
        "id": "mDLpjAds1oUW"
      },
      "source": [
        "2. Divide 60 by the sum of `y` and 5."
      ]
    },
    {
      "cell_type": "code",
      "source": [
        "print(y/5)"
      ],
      "metadata": {
        "colab": {
          "base_uri": "https://localhost:8080/"
        },
        "id": "7QWSp9lHMp6o",
        "outputId": "d6f53f43-5896-4073-bf51-ead8cf814e82"
      },
      "execution_count": null,
      "outputs": [
        {
          "output_type": "stream",
          "name": "stdout",
          "text": [
            "2.0\n"
          ]
        }
      ]
    },
    {
      "cell_type": "markdown",
      "metadata": {
        "id": "05Bfbgip1oUW"
      },
      "source": [
        "3. Divide `y` by 4. Then obtain the **remainder** of the division."
      ]
    },
    {
      "cell_type": "code",
      "execution_count": null,
      "metadata": {
        "collapsed": true,
        "jupyter": {
          "outputs_hidden": true
        },
        "id": "YTBLaOhs1oUW",
        "colab": {
          "base_uri": "https://localhost:8080/"
        },
        "outputId": "9162ca43-bf1d-4f94-cf75-cd688e61f1f8"
      },
      "outputs": [
        {
          "output_type": "stream",
          "name": "stdout",
          "text": [
            "2.5\n"
          ]
        }
      ],
      "source": [
        "print(y/4)"
      ]
    },
    {
      "cell_type": "code",
      "execution_count": null,
      "metadata": {
        "collapsed": true,
        "jupyter": {
          "outputs_hidden": true
        },
        "id": "biwt2Ou71oUW",
        "colab": {
          "base_uri": "https://localhost:8080/"
        },
        "outputId": "fcbd8619-297f-4926-a00f-2434bafecd63"
      },
      "outputs": [
        {
          "output_type": "stream",
          "name": "stdout",
          "text": [
            "2\n"
          ]
        }
      ],
      "source": [
        "print(y%4)"
      ]
    },
    {
      "cell_type": "markdown",
      "metadata": {
        "id": "9N91UJEg1oUW"
      },
      "source": [
        "**4**. Raise 35 to the power of 4."
      ]
    },
    {
      "cell_type": "code",
      "execution_count": null,
      "metadata": {
        "collapsed": true,
        "jupyter": {
          "outputs_hidden": true
        },
        "id": "XYF3IYB81oUW",
        "colab": {
          "base_uri": "https://localhost:8080/"
        },
        "outputId": "04d81e35-1689-4319-d635-3b1b34da9d6b"
      },
      "outputs": [
        {
          "output_type": "execute_result",
          "data": {
            "text/plain": [
              "1500625"
            ]
          },
          "metadata": {},
          "execution_count": 37
        }
      ],
      "source": [
        "35**4"
      ]
    },
    {
      "cell_type": "markdown",
      "source": [
        "5. Take the square root of 1764."
      ],
      "metadata": {
        "id": "kQuLi4dYd9hY"
      }
    },
    {
      "cell_type": "code",
      "source": [
        "# come si fa lo square root??"
      ],
      "metadata": {
        "id": "mNlM4WKdN1Uv"
      },
      "execution_count": null,
      "outputs": []
    },
    {
      "cell_type": "markdown",
      "metadata": {
        "id": "SN9ySeac1oUQ"
      },
      "source": [
        "## Variables & assignment"
      ]
    },
    {
      "cell_type": "markdown",
      "metadata": {
        "id": "mVi9u1sy1oUQ"
      },
      "source": [
        "1. Create a variable, call it `z` and assign it a value of 10. Then show the value of the variable on the screen."
      ]
    },
    {
      "cell_type": "code",
      "execution_count": null,
      "metadata": {
        "collapsed": true,
        "jupyter": {
          "outputs_hidden": true
        },
        "id": "FftPAp7c1oUQ"
      },
      "outputs": [],
      "source": [
        "z = 10"
      ]
    },
    {
      "cell_type": "code",
      "execution_count": null,
      "metadata": {
        "collapsed": true,
        "jupyter": {
          "outputs_hidden": true
        },
        "id": "CEnCDTDZ1oUR",
        "colab": {
          "base_uri": "https://localhost:8080/"
        },
        "outputId": "ca214907-c897-4338-f955-002694062f2c"
      },
      "outputs": [
        {
          "output_type": "stream",
          "name": "stdout",
          "text": [
            "10\n"
          ]
        }
      ],
      "source": [
        "print(z)"
      ]
    },
    {
      "cell_type": "markdown",
      "metadata": {
        "id": "BQPcDcHq1oUS"
      },
      "source": [
        "2. Using one line of code, create three new variables: `one`, `two` and `three`, that are equal to 10, 20 and 30 respectively."
      ]
    },
    {
      "cell_type": "code",
      "execution_count": null,
      "metadata": {
        "collapsed": true,
        "jupyter": {
          "outputs_hidden": true
        },
        "id": "WWqogbfk1oUS"
      },
      "outputs": [],
      "source": [
        "one , two , three = 10 , 20 , 30\n"
      ]
    },
    {
      "cell_type": "markdown",
      "metadata": {
        "id": "F5OtOLvS1oUS"
      },
      "source": [
        "3. Tell Python to output the sum of the three variables. "
      ]
    },
    {
      "cell_type": "code",
      "execution_count": null,
      "metadata": {
        "collapsed": true,
        "jupyter": {
          "outputs_hidden": true
        },
        "id": "y2lY53D71oUS",
        "colab": {
          "base_uri": "https://localhost:8080/"
        },
        "outputId": "4c63252a-53b7-48dd-db55-1d423a7f4df4"
      },
      "outputs": [
        {
          "output_type": "stream",
          "name": "stdout",
          "text": [
            "60\n"
          ]
        }
      ],
      "source": [
        "print(one + two + three)"
      ]
    },
    {
      "cell_type": "markdown",
      "metadata": {
        "id": "2DuesoTl1oUS"
      },
      "source": [
        "4. Using the three variables from above, output the value \"102030\" as a string. "
      ]
    },
    {
      "cell_type": "code",
      "source": [
        "one = 10\n",
        "two = 20\n",
        "three = 30"
      ],
      "metadata": {
        "id": "keSzns7oPSL1"
      },
      "execution_count": null,
      "outputs": []
    },
    {
      "cell_type": "code",
      "source": [
        "print(one+two+three)"
      ],
      "metadata": {
        "colab": {
          "base_uri": "https://localhost:8080/"
        },
        "id": "N2D_9J7SPlbj",
        "outputId": "24c49321-6698-499c-8729-bd75ef3dad5e"
      },
      "execution_count": null,
      "outputs": [
        {
          "output_type": "stream",
          "name": "stdout",
          "text": [
            "102030102030102030\n"
          ]
        }
      ]
    },
    {
      "cell_type": "markdown",
      "metadata": {
        "id": "cpYM5lmC1oUW"
      },
      "source": [
        "5. Assign the value of 10 to a variable `w` and, in the same cell, print `w` on the screen. Then multiply `w` by 10. "
      ]
    },
    {
      "cell_type": "code",
      "execution_count": null,
      "metadata": {
        "collapsed": true,
        "jupyter": {
          "outputs_hidden": true
        },
        "id": "zmnAwzgm1oUW",
        "colab": {
          "base_uri": "https://localhost:8080/"
        },
        "outputId": "9231db37-a006-4c72-9ab1-e1c728305475"
      },
      "outputs": [
        {
          "output_type": "stream",
          "name": "stdout",
          "text": [
            "100\n"
          ]
        }
      ],
      "source": [
        "w = 10\n",
        "print(w*10)"
      ]
    },
    {
      "cell_type": "markdown",
      "metadata": {
        "id": "xBKnevPq1oUW"
      },
      "source": [
        "6. Now, assign 30 to the variable `w`. Then calculate `w` + 10. Notice how the value of `w` changes and is always the last one you have assigned."
      ]
    },
    {
      "cell_type": "code",
      "execution_count": null,
      "metadata": {
        "collapsed": true,
        "jupyter": {
          "outputs_hidden": true
        },
        "id": "cGwgk-0i1oUX",
        "colab": {
          "base_uri": "https://localhost:8080/"
        },
        "outputId": "16d6e3ad-f013-42b8-b899-975fcc6d4567"
      },
      "outputs": [
        {
          "output_type": "stream",
          "name": "stdout",
          "text": [
            "20\n"
          ]
        }
      ],
      "source": [
        "W = 30 \n",
        "print(w +10)"
      ]
    },
    {
      "cell_type": "markdown",
      "metadata": {
        "id": "1XkdlFNT1oUY"
      },
      "source": [
        "## Indexing elements"
      ]
    },
    {
      "cell_type": "markdown",
      "metadata": {
        "id": "ohIvpCFk1oUY"
      },
      "source": [
        "1. Using string indexing, extract the letter 'B' from \"Boolean\"."
      ]
    },
    {
      "cell_type": "code",
      "execution_count": null,
      "metadata": {
        "collapsed": true,
        "jupyter": {
          "outputs_hidden": true
        },
        "id": "UO4uIRYF1oUY",
        "colab": {
          "base_uri": "https://localhost:8080/"
        },
        "outputId": "78e202bf-b591-4cbc-fb71-8af1ea20254e"
      },
      "outputs": [
        {
          "output_type": "stream",
          "name": "stdout",
          "text": [
            "B\n"
          ]
        }
      ],
      "source": [
        "print(\"Boolean\"[0])"
      ]
    },
    {
      "cell_type": "markdown",
      "source": [
        "2. Using string indexing, extract the substring \"lean\" from \"Boolean\". "
      ],
      "metadata": {
        "id": "TipNfpkcXWUK"
      }
    },
    {
      "cell_type": "code",
      "execution_count": null,
      "metadata": {
        "collapsed": true,
        "jupyter": {
          "outputs_hidden": true
        },
        "id": "oLVdBpI61oUY",
        "colab": {
          "base_uri": "https://localhost:8080/"
        },
        "outputId": "d7bd973d-d0f2-4338-fe4e-66308da37824"
      },
      "outputs": [
        {
          "output_type": "stream",
          "name": "stdout",
          "text": [
            "lean\n"
          ]
        }
      ],
      "source": [
        "print(\"Boolean\"[3:])"
      ]
    },
    {
      "cell_type": "markdown",
      "metadata": {
        "id": "OA9LxBgq1oUY"
      },
      "source": [
        "3. Using string indexing, extract the exclamation mark from \"Hello World!\"."
      ]
    },
    {
      "cell_type": "code",
      "execution_count": null,
      "metadata": {
        "collapsed": true,
        "jupyter": {
          "outputs_hidden": true
        },
        "id": "cBIkR1FC1oUY",
        "colab": {
          "base_uri": "https://localhost:8080/"
        },
        "outputId": "f85f6be4-3342-4cef-ea57-39e4f5737daf"
      },
      "outputs": [
        {
          "output_type": "stream",
          "name": "stdout",
          "text": [
            "!\n"
          ]
        }
      ],
      "source": [
        "print(\"hello world!\"[-1])"
      ]
    },
    {
      "cell_type": "markdown",
      "source": [
        "4. Using string indexing, extract the substring \"UAE\" from the following text: \"Israel signs first Arab free trade agreement with UAE.\""
      ],
      "metadata": {
        "id": "ekuFBqHkYRTo"
      }
    },
    {
      "cell_type": "code",
      "execution_count": null,
      "metadata": {
        "collapsed": true,
        "jupyter": {
          "outputs_hidden": true
        },
        "id": "GyNK0NYJ1oUY",
        "colab": {
          "base_uri": "https://localhost:8080/"
        },
        "outputId": "c91c8668-7b23-4733-959a-02446a83a67a"
      },
      "outputs": [
        {
          "output_type": "stream",
          "name": "stdout",
          "text": [
            "UAE\n"
          ]
        }
      ],
      "source": [
        "print(\"Israel signs first Arab free trade agreement with UAE\"[-3:])"
      ]
    }
  ],
  "metadata": {
    "anaconda-cloud": {},
    "kernelspec": {
      "display_name": "Python 3 (ipykernel)",
      "language": "python",
      "name": "python3"
    },
    "language_info": {
      "codemirror_mode": {
        "name": "ipython",
        "version": 3
      },
      "file_extension": ".py",
      "mimetype": "text/x-python",
      "name": "python",
      "nbconvert_exporter": "python",
      "pygments_lexer": "ipython3",
      "version": "3.9.7"
    },
    "colab": {
      "provenance": [],
      "collapsed_sections": [
        "ZQOAbk_x1oUU",
        "F40yMdDd1oUT",
        "bcpGl3rc1oUV",
        "SN9ySeac1oUQ",
        "1XkdlFNT1oUY"
      ]
    }
  },
  "nbformat": 4,
  "nbformat_minor": 0
}